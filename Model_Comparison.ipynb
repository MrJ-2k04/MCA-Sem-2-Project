{
 "cells": [
  {
   "cell_type": "markdown",
   "id": "3cdf3543",
   "metadata": {},
   "source": [
    "# PriceTrack: Unlocking Bike Market Insights\n",
    "\n",
    "PriceTrack is a data science project designed to predict the valuation of used bike based on key input parameters.\n",
    "Leveraging Multiple Linear regression model, it provides data-driven insights to help sellers make informed decisions."
   ]
  },
  {
   "cell_type": "markdown",
   "id": "029cb288",
   "metadata": {},
   "source": [
    "### Import necessary libraries\n",
    "This cell imports essential libraries including pandas, NumPy, and scikit-learn modules."
   ]
  },
  {
   "cell_type": "code",
   "execution_count": 10,
   "id": "bb75ccff",
   "metadata": {},
   "outputs": [],
   "source": [
    "import pandas as pd\n",
    "import numpy as np\n",
    "from sklearn.model_selection import train_test_split\n",
    "from sklearn.metrics import r2_score\n",
    "\n",
    "from sklearn.linear_model import LinearRegression, Ridge, Lasso\n",
    "from sklearn.tree import DecisionTreeRegressor\n",
    "from sklearn.ensemble import RandomForestRegressor, GradientBoostingRegressor\n",
    "\n",
    "from sklearn.compose import ColumnTransformer\n",
    "from sklearn.pipeline import Pipeline\n",
    "from sklearn.preprocessing import OneHotEncoder, StandardScaler"
   ]
  },
  {
   "cell_type": "markdown",
   "id": "6577de86",
   "metadata": {},
   "source": [
    "### Load and prepare dataset\n",
    "This cell reads the dataset and separates features from the target variable."
   ]
  },
  {
   "cell_type": "code",
   "execution_count": 11,
   "id": "0236b5a3",
   "metadata": {},
   "outputs": [],
   "source": [
    "# Load dataset\n",
    "df = pd.read_csv(\"Cleaned_Bike_Data.csv\")\n",
    "\n",
    "# Separate target and features\n",
    "X = df[[\"age\", \"power\", \"brand\", \"owner_encoded\", \"city\", \"kms_driven\"]]\n",
    "y = df[\"price\"]\n",
    "\n",
    "# Identify categorical and numerical columns\n",
    "categorical_cols = X.select_dtypes(include=[\"object\", \"category\"]).columns.tolist()\n",
    "numerical_cols = X.select_dtypes(include=[\"int64\", \"float64\"]).columns.tolist()\n",
    "\n",
    "# Preprocessor: OneHotEncode categoricals, Scale numericals\n",
    "preprocessor = ColumnTransformer(\n",
    "    transformers=[\n",
    "        (\"num\", StandardScaler(), numerical_cols),\n",
    "        (\"cat\", OneHotEncoder(handle_unknown=\"ignore\"), categorical_cols),\n",
    "    ],\n",
    "    force_int_remainder_cols=False,\n",
    ")\n",
    "\n",
    "# Train/test split\n",
    "X_train, X_test, y_train, y_test = train_test_split(X, y, test_size=0.2, random_state=0)"
   ]
  },
  {
   "cell_type": "markdown",
   "id": "0255d94e",
   "metadata": {},
   "source": [
    "### Linear Regression pipeline\n",
    "This cell defines a pipeline with preprocessing and a Linear Regression model."
   ]
  },
  {
   "cell_type": "code",
   "execution_count": 13,
   "id": "e48fa5e9",
   "metadata": {},
   "outputs": [
    {
     "name": "stdout",
     "output_type": "stream",
     "text": [
      "Linear Regression R² Score: 0.9278 | Accuracy: 92.78 %\n"
     ]
    }
   ],
   "source": [
    "pipe_lr = Pipeline([\n",
    "    (\"preprocessing\", preprocessor),\n",
    "    (\"model\", LinearRegression())\n",
    "])\n",
    "pipe_lr.fit(X_train, y_train)\n",
    "pred_lr = pipe_lr.predict(X_test)\n",
    "r2_lr = r2_score(y_test, pred_lr)\n",
    "print(\"Linear Regression R² Score:\", round(r2_lr, 4), \"| Accuracy:\", round(r2_lr * 100, 2), \"%\")"
   ]
  },
  {
   "cell_type": "markdown",
   "id": "42d1e432",
   "metadata": {},
   "source": [
    "### Ridge Regression pipeline\n",
    "This cell defines a pipeline with preprocessing and a Ridge Regression model."
   ]
  },
  {
   "cell_type": "code",
   "execution_count": 14,
   "id": "a6e57b05",
   "metadata": {},
   "outputs": [
    {
     "name": "stdout",
     "output_type": "stream",
     "text": [
      "Ridge Regression R² Score: 0.9286 | Accuracy: 92.86 %\n"
     ]
    }
   ],
   "source": [
    "pipe_ridge = Pipeline([\n",
    "    (\"preprocessing\", preprocessor),\n",
    "    (\"model\", Ridge(alpha=1.0))\n",
    "])\n",
    "pipe_ridge.fit(X_train, y_train)\n",
    "pred_ridge = pipe_ridge.predict(X_test)\n",
    "r2_ridge = r2_score(y_test, pred_ridge)\n",
    "print(\"Ridge Regression R² Score:\", round(r2_ridge, 4), \"| Accuracy:\", round(r2_ridge * 100, 2), \"%\")"
   ]
  },
  {
   "cell_type": "markdown",
   "id": "97b03d9d",
   "metadata": {},
   "source": [
    "### Lasso Regression pipeline\n",
    "This cell defines a pipeline with preprocessing and a Lasso Regression model."
   ]
  },
  {
   "cell_type": "code",
   "execution_count": 29,
   "id": "f5d1b364",
   "metadata": {},
   "outputs": [
    {
     "name": "stdout",
     "output_type": "stream",
     "text": [
      "Lasso Regression R² Score: 0.9279 | Accuracy: 92.79 %\n"
     ]
    }
   ],
   "source": [
    "pipe_lasso = Pipeline([\n",
    "    (\"preprocessing\", preprocessor),\n",
    "    (\"model\", Lasso(alpha=0.1, tol=0.035, max_iter=500))\n",
    "])\n",
    "pipe_lasso.fit(X_train, y_train)\n",
    "pred_lasso = pipe_lasso.predict(X_test)\n",
    "r2_lasso = r2_score(y_test, pred_lasso)\n",
    "print(\"Lasso Regression R² Score:\", round(r2_lasso, 4), \"| Accuracy:\", round(r2_lasso * 100, 2), \"%\")\n"
   ]
  },
  {
   "cell_type": "markdown",
   "id": "5512c6ba",
   "metadata": {},
   "source": [
    "### Decision Tree Regression pipeline\n",
    "This cell defines a pipeline with preprocessing and a Decision Tree Regression model."
   ]
  },
  {
   "cell_type": "code",
   "execution_count": 30,
   "id": "cc28a1f4",
   "metadata": {},
   "outputs": [
    {
     "name": "stdout",
     "output_type": "stream",
     "text": [
      "Decision Tree R² Score: 0.9459 | Accuracy: 94.59 %\n"
     ]
    }
   ],
   "source": [
    "pipe_dt = Pipeline([\n",
    "    (\"preprocessing\", preprocessor),\n",
    "    (\"model\", DecisionTreeRegressor(max_depth=5))\n",
    "])\n",
    "pipe_dt.fit(X_train, y_train)\n",
    "pred_dt = pipe_dt.predict(X_test)\n",
    "r2_dt = r2_score(y_test, pred_dt)\n",
    "print(\"Decision Tree R² Score:\", round(r2_dt, 4), \"| Accuracy:\", round(r2_dt * 100, 2), \"%\")\n"
   ]
  },
  {
   "cell_type": "markdown",
   "id": "18c0345f",
   "metadata": {},
   "source": [
    "### Random Forest Regression pipeline\n",
    "This cell defines a pipeline with preprocessing and a Random Forest Regression model."
   ]
  },
  {
   "cell_type": "code",
   "execution_count": 17,
   "id": "28c41aea",
   "metadata": {},
   "outputs": [
    {
     "name": "stdout",
     "output_type": "stream",
     "text": [
      "Random Forest R² Score: 0.9822 | Accuracy: 98.22 %\n"
     ]
    }
   ],
   "source": [
    "pipe_rf = Pipeline([\n",
    "    (\"preprocessing\", preprocessor),\n",
    "    (\"model\", RandomForestRegressor(n_estimators=100, random_state=42))\n",
    "])\n",
    "pipe_rf.fit(X_train, y_train)\n",
    "pred_rf = pipe_rf.predict(X_test)\n",
    "r2_rf = r2_score(y_test, pred_rf)\n",
    "print(\"Random Forest R² Score:\", round(r2_rf, 4), \"| Accuracy:\", round(r2_rf * 100, 2), \"%\")\n"
   ]
  },
  {
   "cell_type": "markdown",
   "id": "bc902a8a",
   "metadata": {},
   "source": [
    "### Gradient Boosting Regression pipeline\n",
    "This cell defines a pipeline with preprocessing and a Gradient Boosting Regression model."
   ]
  },
  {
   "cell_type": "code",
   "execution_count": 18,
   "id": "6acc9c58",
   "metadata": {},
   "outputs": [
    {
     "name": "stdout",
     "output_type": "stream",
     "text": [
      "Gradient Boosting R² Score: 0.9715 | Accuracy: 97.15 %\n"
     ]
    }
   ],
   "source": [
    "pipe_gb = Pipeline([\n",
    "    (\"preprocessing\", preprocessor),\n",
    "    (\"model\", GradientBoostingRegressor(n_estimators=100, learning_rate=0.1))\n",
    "])\n",
    "pipe_gb.fit(X_train, y_train)\n",
    "pred_gb = pipe_gb.predict(X_test)\n",
    "r2_gb = r2_score(y_test, pred_gb)\n",
    "print(\"Gradient Boosting R² Score:\", round(r2_gb, 4), \"| Accuracy:\", round(r2_gb * 100, 2), \"%\")\n"
   ]
  }
 ],
 "metadata": {
  "kernelspec": {
   "display_name": "Python 3",
   "language": "python",
   "name": "python3"
  },
  "language_info": {
   "codemirror_mode": {
    "name": "ipython",
    "version": 3
   },
   "file_extension": ".py",
   "mimetype": "text/x-python",
   "name": "python",
   "nbconvert_exporter": "python",
   "pygments_lexer": "ipython3",
   "version": "3.10.0"
  }
 },
 "nbformat": 4,
 "nbformat_minor": 5
}

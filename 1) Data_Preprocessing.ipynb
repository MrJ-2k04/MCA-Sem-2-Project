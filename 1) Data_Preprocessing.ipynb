{
 "cells": [
  {
   "cell_type": "markdown",
   "metadata": {},
   "source": [
    "# PriceTrack: Unlocking Car Market Insights\n",
    "\n",
    "PriceTrack is a data science project designed to predict the valuation of second-hand cars based on key input parameters. \n",
    "Leveraging Linear regression model, it provides data-driven insights to help buyers and sellers make informed decisions."
   ]
  },
  {
   "cell_type": "markdown",
   "metadata": {},
   "source": [
    "We will be using some common Python libraries, such as pandas, numpy, matplotlib and statsmodel."
   ]
  },
  {
   "cell_type": "code",
   "execution_count": 537,
   "metadata": {},
   "outputs": [],
   "source": [
    "import pandas as pd"
   ]
  },
  {
   "cell_type": "markdown",
   "metadata": {},
   "source": [
    "## Importing Dataset\n",
    "\n",
    "We used the Quikr Car data set that comes from the (https://quikr.com) to carry out Exploratory Data Analysis.\n",
    "\n",
    "The dataset includes 892 cars (rows) and 6 features (columns)."
   ]
  },
  {
   "cell_type": "code",
   "execution_count": 538,
   "metadata": {},
   "outputs": [
    {
     "name": "stdout",
     "output_type": "stream",
     "text": [
      "(892, 6)\n"
     ]
    },
    {
     "data": {
      "text/html": [
       "<div>\n",
       "<style scoped>\n",
       "    .dataframe tbody tr th:only-of-type {\n",
       "        vertical-align: middle;\n",
       "    }\n",
       "\n",
       "    .dataframe tbody tr th {\n",
       "        vertical-align: top;\n",
       "    }\n",
       "\n",
       "    .dataframe thead th {\n",
       "        text-align: right;\n",
       "    }\n",
       "</style>\n",
       "<table border=\"1\" class=\"dataframe\">\n",
       "  <thead>\n",
       "    <tr style=\"text-align: right;\">\n",
       "      <th></th>\n",
       "      <th>name</th>\n",
       "      <th>company</th>\n",
       "      <th>year</th>\n",
       "      <th>Price</th>\n",
       "      <th>kms_driven</th>\n",
       "      <th>fuel_type</th>\n",
       "    </tr>\n",
       "  </thead>\n",
       "  <tbody>\n",
       "    <tr>\n",
       "      <th>0</th>\n",
       "      <td>Hyundai Santro Xing XO eRLX Euro III</td>\n",
       "      <td>Hyundai</td>\n",
       "      <td>2007</td>\n",
       "      <td>80,000</td>\n",
       "      <td>45,000 kms</td>\n",
       "      <td>Petrol</td>\n",
       "    </tr>\n",
       "    <tr>\n",
       "      <th>1</th>\n",
       "      <td>Mahindra Jeep CL550 MDI</td>\n",
       "      <td>Mahindra</td>\n",
       "      <td>2006</td>\n",
       "      <td>4,25,000</td>\n",
       "      <td>40 kms</td>\n",
       "      <td>Diesel</td>\n",
       "    </tr>\n",
       "    <tr>\n",
       "      <th>2</th>\n",
       "      <td>Maruti Suzuki Alto 800 Vxi</td>\n",
       "      <td>Maruti</td>\n",
       "      <td>2018</td>\n",
       "      <td>Ask For Price</td>\n",
       "      <td>22,000 kms</td>\n",
       "      <td>Petrol</td>\n",
       "    </tr>\n",
       "    <tr>\n",
       "      <th>3</th>\n",
       "      <td>Hyundai Grand i10 Magna 1.2 Kappa VTVT</td>\n",
       "      <td>Hyundai</td>\n",
       "      <td>2014</td>\n",
       "      <td>3,25,000</td>\n",
       "      <td>28,000 kms</td>\n",
       "      <td>Petrol</td>\n",
       "    </tr>\n",
       "    <tr>\n",
       "      <th>4</th>\n",
       "      <td>Ford EcoSport Titanium 1.5L TDCi</td>\n",
       "      <td>Ford</td>\n",
       "      <td>2014</td>\n",
       "      <td>5,75,000</td>\n",
       "      <td>36,000 kms</td>\n",
       "      <td>Diesel</td>\n",
       "    </tr>\n",
       "  </tbody>\n",
       "</table>\n",
       "</div>"
      ],
      "text/plain": [
       "                                     name   company  year          Price  \\\n",
       "0    Hyundai Santro Xing XO eRLX Euro III   Hyundai  2007         80,000   \n",
       "1                 Mahindra Jeep CL550 MDI  Mahindra  2006       4,25,000   \n",
       "2              Maruti Suzuki Alto 800 Vxi    Maruti  2018  Ask For Price   \n",
       "3  Hyundai Grand i10 Magna 1.2 Kappa VTVT   Hyundai  2014       3,25,000   \n",
       "4        Ford EcoSport Titanium 1.5L TDCi      Ford  2014       5,75,000   \n",
       "\n",
       "   kms_driven fuel_type  \n",
       "0  45,000 kms    Petrol  \n",
       "1      40 kms    Diesel  \n",
       "2  22,000 kms    Petrol  \n",
       "3  28,000 kms    Petrol  \n",
       "4  36,000 kms    Diesel  "
      ]
     },
     "execution_count": 538,
     "metadata": {},
     "output_type": "execute_result"
    }
   ],
   "source": [
    "df=pd.read_csv(\"quikr_car.csv\")\n",
    "print(df.shape)\n",
    "df.head()"
   ]
  },
  {
   "cell_type": "markdown",
   "metadata": {},
   "source": [
    "### Understanding the type of data we're dealing with"
   ]
  },
  {
   "cell_type": "markdown",
   "metadata": {},
   "source": [
    "Starting with datatypes"
   ]
  },
  {
   "cell_type": "code",
   "execution_count": 539,
   "metadata": {},
   "outputs": [
    {
     "name": "stdout",
     "output_type": "stream",
     "text": [
      "<class 'pandas.core.frame.DataFrame'>\n",
      "RangeIndex: 892 entries, 0 to 891\n",
      "Data columns (total 6 columns):\n",
      " #   Column      Non-Null Count  Dtype \n",
      "---  ------      --------------  ----- \n",
      " 0   name        892 non-null    object\n",
      " 1   company     892 non-null    object\n",
      " 2   year        892 non-null    object\n",
      " 3   Price       892 non-null    object\n",
      " 4   kms_driven  840 non-null    object\n",
      " 5   fuel_type   837 non-null    object\n",
      "dtypes: object(6)\n",
      "memory usage: 41.9+ KB\n"
     ]
    }
   ],
   "source": [
    "df.info()"
   ]
  },
  {
   "cell_type": "markdown",
   "metadata": {},
   "source": [
    "### 📊 Data Types and Measurement Categories  \n",
    "\n",
    "| Column Name  | Category  | Description |\n",
    "|-------------|-----------|-------------|\n",
    "| `name`      | **Nominal**  | Car model names, which are unique identifiers with no inherent order. |\n",
    "| `company`   | **Nominal**  | Car brands, representing categorical labels with no ranking. |\n",
    "| `year`      | **Ordinal**  | Represents the manufacturing year; while numerical, it follows a meaningful order but lacks equal intervals. |\n",
    "| `Price`     | **Ratio**    | Car price, a continuous numerical variable with a meaningful zero point. |\n",
    "| `kms_driven` | **Ratio**    | Distance traveled by the car, measured in kilometers with a true zero value. |\n",
    "| `fuel_type` | **Nominal**  | Categorical variable indicating fuel type (e.g., Petrol, Diesel, etc.) with no ranking. |\n"
   ]
  },
  {
   "cell_type": "markdown",
   "metadata": {},
   "source": [
    "## Data Preprocessing"
   ]
  },
  {
   "cell_type": "markdown",
   "metadata": {},
   "source": [
    "#### Replacing wrong values with N/A"
   ]
  },
  {
   "cell_type": "code",
   "execution_count": 540,
   "metadata": {},
   "outputs": [
    {
     "data": {
      "text/plain": [
       "name           0\n",
       "company        0\n",
       "year           0\n",
       "Price          0\n",
       "kms_driven    52\n",
       "fuel_type     55\n",
       "dtype: int64"
      ]
     },
     "execution_count": 540,
     "metadata": {},
     "output_type": "execute_result"
    }
   ],
   "source": [
    "df.isna().sum()"
   ]
  },
  {
   "cell_type": "markdown",
   "metadata": {},
   "source": [
    "We can see that **kms_driven** and **fuel_type** column has ~50 missing values"
   ]
  },
  {
   "cell_type": "code",
   "execution_count": 541,
   "metadata": {},
   "outputs": [],
   "source": [
    "preprocessed_df = df.copy()"
   ]
  },
  {
   "cell_type": "markdown",
   "metadata": {},
   "source": [
    "#### a) Year Column\n",
    "\n",
    "Finding unique year values"
   ]
  },
  {
   "cell_type": "code",
   "execution_count": 542,
   "metadata": {},
   "outputs": [
    {
     "name": "stdout",
     "output_type": "stream",
     "text": [
      "Unique years:  ['2007' '2006' '2018' '2014' '2015' '2012' '2013' '2016' '2010' '2017'\n",
      " '2008' '2011' '2019' '2009' '2005' '2000' '...' '150k' 'TOUR' '2003'\n",
      " 'r 15' '2004' 'Zest' '/-Rs' 'sale' '1995' 'ara)' '2002' 'SELL' '2001'\n",
      " 'tion' 'odel' '2 bs' 'arry' 'Eon' 'o...' 'ture' 'emi' 'car' 'able' 'no.'\n",
      " 'd...' 'SALE' 'digo' 'sell' 'd Ex' 'n...' 'e...' 'D...' ', Ac' 'go .'\n",
      " 'k...' 'o c4' 'zire' 'cent' 'Sumo' 'cab' 't xe' 'EV2' 'r...' 'zest']\n"
     ]
    }
   ],
   "source": [
    "print(\"Unique years: \", df[\"year\"].unique())"
   ]
  },
  {
   "cell_type": "markdown",
   "metadata": {},
   "source": [
    "We will remove all the invalid year values and convert it to \\<NA\\>"
   ]
  },
  {
   "cell_type": "code",
   "execution_count": 543,
   "metadata": {},
   "outputs": [
    {
     "name": "stdout",
     "output_type": "stream",
     "text": [
      "Unique years:  <IntegerArray>\n",
      "[1995, 2000, 2001, 2002, 2003, 2004, 2005, 2006, 2007, 2008, 2009, 2010, 2011,\n",
      " 2012, 2013, 2014, 2015, 2016, 2017, 2018, 2019, <NA>]\n",
      "Length: 22, dtype: Int64\n"
     ]
    }
   ],
   "source": [
    "preprocessed_df[\"year\"] = pd.to_numeric(df[\"year\"], errors='coerce').astype(\"Int64\")\n",
    "unique_years = preprocessed_df[\"year\"].sort_values().unique()\n",
    "print(\"Unique years: \", unique_years)"
   ]
  },
  {
   "cell_type": "markdown",
   "metadata": {},
   "source": [
    "#### b) Km Driven Column\n",
    "\n",
    "We will convert Kilometers to Integer"
   ]
  },
  {
   "cell_type": "code",
   "execution_count": 544,
   "metadata": {},
   "outputs": [
    {
     "name": "stdout",
     "output_type": "stream",
     "text": [
      "21 records with extreme kms will be replaced with mean\n"
     ]
    },
    {
     "data": {
      "text/plain": [
       "count           817.0\n",
       "mean     47190.228886\n",
       "std       34104.70073\n",
       "min            1000.0\n",
       "25%           28000.0\n",
       "50%           41800.0\n",
       "75%           58000.0\n",
       "max          400000.0\n",
       "Name: kms_driven, dtype: Float64"
      ]
     },
     "execution_count": 544,
     "metadata": {},
     "output_type": "execute_result"
    }
   ],
   "source": [
    "kms_series = pd.to_numeric(df[\"kms_driven\"].str.replace(r\"\\D\", \"\", regex=True), errors=\"coerce\").astype(\"Int64\")\n",
    "\n",
    "# Finding Extreme Range\n",
    "extremeKms = (kms_series < 1000) | (kms_series > 400000)\n",
    "print(f\"{extremeKms.sum()} records with extreme kms will be replaced with mean\")\n",
    "kms_series[extremeKms] = pd.NA # will be replaced by mean in later blocks\n",
    "\n",
    "preprocessed_df[\"kms_driven\"] = kms_series\n",
    "preprocessed_df[\"kms_driven\"].describe()"
   ]
  },
  {
   "cell_type": "markdown",
   "metadata": {},
   "source": [
    "Let's see which record has the maximum kms_driven"
   ]
  },
  {
   "cell_type": "code",
   "execution_count": 545,
   "metadata": {},
   "outputs": [
    {
     "data": {
      "text/html": [
       "<div>\n",
       "<style scoped>\n",
       "    .dataframe tbody tr th:only-of-type {\n",
       "        vertical-align: middle;\n",
       "    }\n",
       "\n",
       "    .dataframe tbody tr th {\n",
       "        vertical-align: top;\n",
       "    }\n",
       "\n",
       "    .dataframe thead th {\n",
       "        text-align: right;\n",
       "    }\n",
       "</style>\n",
       "<table border=\"1\" class=\"dataframe\">\n",
       "  <thead>\n",
       "    <tr style=\"text-align: right;\">\n",
       "      <th></th>\n",
       "      <th>name</th>\n",
       "      <th>company</th>\n",
       "      <th>year</th>\n",
       "      <th>Price</th>\n",
       "      <th>kms_driven</th>\n",
       "      <th>fuel_type</th>\n",
       "    </tr>\n",
       "  </thead>\n",
       "  <tbody>\n",
       "    <tr>\n",
       "      <th>362</th>\n",
       "      <td>Honda City 1.5 V MT Exclusive</td>\n",
       "      <td>Honda</td>\n",
       "      <td>2010</td>\n",
       "      <td>2,40,000</td>\n",
       "      <td>400000</td>\n",
       "      <td>Petrol</td>\n",
       "    </tr>\n",
       "  </tbody>\n",
       "</table>\n",
       "</div>"
      ],
      "text/plain": [
       "                              name company  year     Price  kms_driven  \\\n",
       "362  Honda City 1.5 V MT Exclusive   Honda  2010  2,40,000      400000   \n",
       "\n",
       "    fuel_type  \n",
       "362    Petrol  "
      ]
     },
     "execution_count": 545,
     "metadata": {},
     "output_type": "execute_result"
    }
   ],
   "source": [
    "max_kmsdriven_mask = preprocessed_df[\"kms_driven\"] == preprocessed_df[\"kms_driven\"].max()\n",
    "max_kmsdriven_row = preprocessed_df[max_kmsdriven_mask]\n",
    "max_kmsdriven_row"
   ]
  },
  {
   "cell_type": "code",
   "execution_count": 546,
   "metadata": {},
   "outputs": [
    {
     "data": {
      "text/html": [
       "<div>\n",
       "<style scoped>\n",
       "    .dataframe tbody tr th:only-of-type {\n",
       "        vertical-align: middle;\n",
       "    }\n",
       "\n",
       "    .dataframe tbody tr th {\n",
       "        vertical-align: top;\n",
       "    }\n",
       "\n",
       "    .dataframe thead th {\n",
       "        text-align: right;\n",
       "    }\n",
       "</style>\n",
       "<table border=\"1\" class=\"dataframe\">\n",
       "  <thead>\n",
       "    <tr style=\"text-align: right;\">\n",
       "      <th></th>\n",
       "      <th>name</th>\n",
       "      <th>company</th>\n",
       "      <th>year</th>\n",
       "      <th>Price</th>\n",
       "      <th>kms_driven</th>\n",
       "      <th>fuel_type</th>\n",
       "    </tr>\n",
       "  </thead>\n",
       "  <tbody>\n",
       "    <tr>\n",
       "      <th>362</th>\n",
       "      <td>Honda City 1.5 V MT Exclusive</td>\n",
       "      <td>Honda</td>\n",
       "      <td>2010</td>\n",
       "      <td>2,40,000</td>\n",
       "      <td>400000</td>\n",
       "      <td>Petrol</td>\n",
       "    </tr>\n",
       "    <tr>\n",
       "      <th>430</th>\n",
       "      <td>Toyota Fortuner 3.0 4x4 MT</td>\n",
       "      <td>Toyota</td>\n",
       "      <td>2010</td>\n",
       "      <td>9,40,000</td>\n",
       "      <td>131000</td>\n",
       "      <td>Diesel</td>\n",
       "    </tr>\n",
       "    <tr>\n",
       "      <th>431</th>\n",
       "      <td>Tata Manza ELAN Quadrajet</td>\n",
       "      <td>Tata</td>\n",
       "      <td>2010</td>\n",
       "      <td>1,55,555</td>\n",
       "      <td>111111</td>\n",
       "      <td>Petrol</td>\n",
       "    </tr>\n",
       "    <tr>\n",
       "      <th>783</th>\n",
       "      <td>Tata Sumo Grande MKII GX</td>\n",
       "      <td>Tata</td>\n",
       "      <td>2010</td>\n",
       "      <td>1,30,000</td>\n",
       "      <td>90000</td>\n",
       "      <td>Diesel</td>\n",
       "    </tr>\n",
       "    <tr>\n",
       "      <th>646</th>\n",
       "      <td>Maruti Suzuki Swift VDi ABS</td>\n",
       "      <td>Maruti</td>\n",
       "      <td>2010</td>\n",
       "      <td>1,90,000</td>\n",
       "      <td>74000</td>\n",
       "      <td>Diesel</td>\n",
       "    </tr>\n",
       "  </tbody>\n",
       "</table>\n",
       "</div>"
      ],
      "text/plain": [
       "                              name company  year     Price  kms_driven  \\\n",
       "362  Honda City 1.5 V MT Exclusive   Honda  2010  2,40,000      400000   \n",
       "430     Toyota Fortuner 3.0 4x4 MT  Toyota  2010  9,40,000      131000   \n",
       "431      Tata Manza ELAN Quadrajet    Tata  2010  1,55,555      111111   \n",
       "783       Tata Sumo Grande MKII GX    Tata  2010  1,30,000       90000   \n",
       "646    Maruti Suzuki Swift VDi ABS  Maruti  2010  1,90,000       74000   \n",
       "\n",
       "    fuel_type  \n",
       "362    Petrol  \n",
       "430    Diesel  \n",
       "431    Petrol  \n",
       "783    Diesel  \n",
       "646    Diesel  "
      ]
     },
     "execution_count": 546,
     "metadata": {},
     "output_type": "execute_result"
    }
   ],
   "source": [
    "preprocessed_df[preprocessed_df[\"year\"] == 2010].sort_values(by=\"kms_driven\", ascending=False).head(5)"
   ]
  },
  {
   "cell_type": "markdown",
   "metadata": {},
   "source": [
    "If we compare with other cars from the same manufacture year, we can see that the 2nd highest kms_driven is 131,000.\n",
    "\n",
    "From this, it is clear that there was some wrong input in case of Honda City and kms_driven should have been 40,000."
   ]
  },
  {
   "cell_type": "code",
   "execution_count": 547,
   "metadata": {},
   "outputs": [
    {
     "data": {
      "text/html": [
       "<div>\n",
       "<style scoped>\n",
       "    .dataframe tbody tr th:only-of-type {\n",
       "        vertical-align: middle;\n",
       "    }\n",
       "\n",
       "    .dataframe tbody tr th {\n",
       "        vertical-align: top;\n",
       "    }\n",
       "\n",
       "    .dataframe thead th {\n",
       "        text-align: right;\n",
       "    }\n",
       "</style>\n",
       "<table border=\"1\" class=\"dataframe\">\n",
       "  <thead>\n",
       "    <tr style=\"text-align: right;\">\n",
       "      <th></th>\n",
       "      <th>name</th>\n",
       "      <th>company</th>\n",
       "      <th>year</th>\n",
       "      <th>Price</th>\n",
       "      <th>kms_driven</th>\n",
       "      <th>fuel_type</th>\n",
       "    </tr>\n",
       "  </thead>\n",
       "  <tbody>\n",
       "    <tr>\n",
       "      <th>362</th>\n",
       "      <td>Honda City 1.5 V MT Exclusive</td>\n",
       "      <td>Honda</td>\n",
       "      <td>2010</td>\n",
       "      <td>2,40,000</td>\n",
       "      <td>40000</td>\n",
       "      <td>Petrol</td>\n",
       "    </tr>\n",
       "  </tbody>\n",
       "</table>\n",
       "</div>"
      ],
      "text/plain": [
       "                              name company  year     Price  kms_driven  \\\n",
       "362  Honda City 1.5 V MT Exclusive   Honda  2010  2,40,000       40000   \n",
       "\n",
       "    fuel_type  \n",
       "362    Petrol  "
      ]
     },
     "execution_count": 547,
     "metadata": {},
     "output_type": "execute_result"
    }
   ],
   "source": [
    "preprocessed_df.at[preprocessed_df[max_kmsdriven_mask].index[0], 'kms_driven'] = 40000\n",
    "preprocessed_df[max_kmsdriven_mask]"
   ]
  },
  {
   "cell_type": "markdown",
   "metadata": {},
   "source": [
    "#### c) Price Column\n",
    "\n",
    "Converting Price to Integer"
   ]
  },
  {
   "cell_type": "code",
   "execution_count": 548,
   "metadata": {},
   "outputs": [
    {
     "data": {
      "text/plain": [
       "count            857.0\n",
       "mean     404688.534422\n",
       "std      465536.544629\n",
       "min            30000.0\n",
       "25%           175000.0\n",
       "50%           299999.0\n",
       "75%           485000.0\n",
       "max          8500003.0\n",
       "Name: Price, dtype: Float64"
      ]
     },
     "execution_count": 548,
     "metadata": {},
     "output_type": "execute_result"
    }
   ],
   "source": [
    "price_series = pd.to_numeric(df[\"Price\"].str.replace(r\"\\D\", \"\", regex=True), errors=\"coerce\").astype(\"Int64\")\n",
    "\n",
    "preprocessed_df[\"Price\"] = price_series\n",
    "preprocessed_df[\"Price\"].describe()"
   ]
  },
  {
   "cell_type": "markdown",
   "metadata": {},
   "source": [
    "Let's see which record has the maximum price"
   ]
  },
  {
   "cell_type": "code",
   "execution_count": 549,
   "metadata": {},
   "outputs": [
    {
     "data": {
      "text/html": [
       "<div>\n",
       "<style scoped>\n",
       "    .dataframe tbody tr th:only-of-type {\n",
       "        vertical-align: middle;\n",
       "    }\n",
       "\n",
       "    .dataframe tbody tr th {\n",
       "        vertical-align: top;\n",
       "    }\n",
       "\n",
       "    .dataframe thead th {\n",
       "        text-align: right;\n",
       "    }\n",
       "</style>\n",
       "<table border=\"1\" class=\"dataframe\">\n",
       "  <thead>\n",
       "    <tr style=\"text-align: right;\">\n",
       "      <th></th>\n",
       "      <th>name</th>\n",
       "      <th>company</th>\n",
       "      <th>year</th>\n",
       "      <th>Price</th>\n",
       "      <th>kms_driven</th>\n",
       "      <th>fuel_type</th>\n",
       "    </tr>\n",
       "  </thead>\n",
       "  <tbody>\n",
       "    <tr>\n",
       "      <th>562</th>\n",
       "      <td>Mahindra XUV500 W6</td>\n",
       "      <td>Mahindra</td>\n",
       "      <td>2014</td>\n",
       "      <td>8500003</td>\n",
       "      <td>45000</td>\n",
       "      <td>Diesel</td>\n",
       "    </tr>\n",
       "  </tbody>\n",
       "</table>\n",
       "</div>"
      ],
      "text/plain": [
       "                   name   company  year    Price  kms_driven fuel_type\n",
       "562  Mahindra XUV500 W6  Mahindra  2014  8500003       45000    Diesel"
      ]
     },
     "execution_count": 549,
     "metadata": {},
     "output_type": "execute_result"
    }
   ],
   "source": [
    "max_price_mask = preprocessed_df[\"Price\"] == preprocessed_df[\"Price\"].max()\n",
    "max_price_row = preprocessed_df[max_price_mask]\n",
    "max_price_row"
   ]
  },
  {
   "cell_type": "markdown",
   "metadata": {},
   "source": [
    "It seems that there was a typing error and the price should have been 8,50,000 instead"
   ]
  },
  {
   "cell_type": "code",
   "execution_count": 550,
   "metadata": {},
   "outputs": [
    {
     "data": {
      "text/html": [
       "<div>\n",
       "<style scoped>\n",
       "    .dataframe tbody tr th:only-of-type {\n",
       "        vertical-align: middle;\n",
       "    }\n",
       "\n",
       "    .dataframe tbody tr th {\n",
       "        vertical-align: top;\n",
       "    }\n",
       "\n",
       "    .dataframe thead th {\n",
       "        text-align: right;\n",
       "    }\n",
       "</style>\n",
       "<table border=\"1\" class=\"dataframe\">\n",
       "  <thead>\n",
       "    <tr style=\"text-align: right;\">\n",
       "      <th></th>\n",
       "      <th>name</th>\n",
       "      <th>company</th>\n",
       "      <th>year</th>\n",
       "      <th>Price</th>\n",
       "      <th>kms_driven</th>\n",
       "      <th>fuel_type</th>\n",
       "    </tr>\n",
       "  </thead>\n",
       "  <tbody>\n",
       "    <tr>\n",
       "      <th>562</th>\n",
       "      <td>Mahindra XUV500 W6</td>\n",
       "      <td>Mahindra</td>\n",
       "      <td>2014</td>\n",
       "      <td>850000</td>\n",
       "      <td>45000</td>\n",
       "      <td>Diesel</td>\n",
       "    </tr>\n",
       "  </tbody>\n",
       "</table>\n",
       "</div>"
      ],
      "text/plain": [
       "                   name   company  year   Price  kms_driven fuel_type\n",
       "562  Mahindra XUV500 W6  Mahindra  2014  850000       45000    Diesel"
      ]
     },
     "execution_count": 550,
     "metadata": {},
     "output_type": "execute_result"
    }
   ],
   "source": [
    "preprocessed_df.at[preprocessed_df[max_price_mask].index[0], 'Price'] = 8_50_000\n",
    "preprocessed_df[max_price_mask]"
   ]
  },
  {
   "cell_type": "markdown",
   "metadata": {},
   "source": [
    "#### d) Fuel Type Column\n",
    "\n",
    "Converting Fuel Type to category"
   ]
  },
  {
   "cell_type": "code",
   "execution_count": 551,
   "metadata": {},
   "outputs": [
    {
     "data": {
      "text/plain": [
       "fuel_type\n",
       "Petrol    440\n",
       "Diesel    395\n",
       "LPG         2\n",
       "Name: count, dtype: int64"
      ]
     },
     "execution_count": 551,
     "metadata": {},
     "output_type": "execute_result"
    }
   ],
   "source": [
    "preprocessed_df[\"fuel_type\"] = df[\"fuel_type\"].astype(\"category\")\n",
    "preprocessed_df[\"fuel_type\"].value_counts()"
   ]
  },
  {
   "cell_type": "code",
   "execution_count": 552,
   "metadata": {},
   "outputs": [
    {
     "name": "stdout",
     "output_type": "stream",
     "text": [
      "<class 'pandas.core.frame.DataFrame'>\n",
      "RangeIndex: 892 entries, 0 to 891\n",
      "Data columns (total 6 columns):\n",
      " #   Column      Non-Null Count  Dtype   \n",
      "---  ------      --------------  -----   \n",
      " 0   name        892 non-null    object  \n",
      " 1   company     892 non-null    object  \n",
      " 2   year        842 non-null    Int64   \n",
      " 3   Price       857 non-null    Int64   \n",
      " 4   kms_driven  817 non-null    Int64   \n",
      " 5   fuel_type   837 non-null    category\n",
      "dtypes: Int64(3), category(1), object(2)\n",
      "memory usage: 38.6+ KB\n"
     ]
    }
   ],
   "source": [
    "preprocessed_df.info()"
   ]
  },
  {
   "cell_type": "code",
   "execution_count": 553,
   "metadata": {},
   "outputs": [
    {
     "data": {
      "text/html": [
       "<div>\n",
       "<style scoped>\n",
       "    .dataframe tbody tr th:only-of-type {\n",
       "        vertical-align: middle;\n",
       "    }\n",
       "\n",
       "    .dataframe tbody tr th {\n",
       "        vertical-align: top;\n",
       "    }\n",
       "\n",
       "    .dataframe thead th {\n",
       "        text-align: right;\n",
       "    }\n",
       "</style>\n",
       "<table border=\"1\" class=\"dataframe\">\n",
       "  <thead>\n",
       "    <tr style=\"text-align: right;\">\n",
       "      <th></th>\n",
       "      <th>Price</th>\n",
       "      <th>kms_driven</th>\n",
       "    </tr>\n",
       "  </thead>\n",
       "  <tbody>\n",
       "    <tr>\n",
       "      <th>count</th>\n",
       "      <td>857.0</td>\n",
       "      <td>817.0</td>\n",
       "    </tr>\n",
       "    <tr>\n",
       "      <th>mean</th>\n",
       "      <td>395762.043174</td>\n",
       "      <td>46749.592411</td>\n",
       "    </tr>\n",
       "    <tr>\n",
       "      <th>std</th>\n",
       "      <td>374589.927179</td>\n",
       "      <td>31787.686352</td>\n",
       "    </tr>\n",
       "    <tr>\n",
       "      <th>min</th>\n",
       "      <td>30000.0</td>\n",
       "      <td>1000.0</td>\n",
       "    </tr>\n",
       "    <tr>\n",
       "      <th>25%</th>\n",
       "      <td>175000.0</td>\n",
       "      <td>28000.0</td>\n",
       "    </tr>\n",
       "    <tr>\n",
       "      <th>50%</th>\n",
       "      <td>299999.0</td>\n",
       "      <td>41000.0</td>\n",
       "    </tr>\n",
       "    <tr>\n",
       "      <th>75%</th>\n",
       "      <td>485000.0</td>\n",
       "      <td>57923.0</td>\n",
       "    </tr>\n",
       "    <tr>\n",
       "      <th>max</th>\n",
       "      <td>3100000.0</td>\n",
       "      <td>200000.0</td>\n",
       "    </tr>\n",
       "  </tbody>\n",
       "</table>\n",
       "</div>"
      ],
      "text/plain": [
       "               Price    kms_driven\n",
       "count          857.0         817.0\n",
       "mean   395762.043174  46749.592411\n",
       "std    374589.927179  31787.686352\n",
       "min          30000.0        1000.0\n",
       "25%         175000.0       28000.0\n",
       "50%         299999.0       41000.0\n",
       "75%         485000.0       57923.0\n",
       "max        3100000.0      200000.0"
      ]
     },
     "execution_count": 553,
     "metadata": {},
     "output_type": "execute_result"
    }
   ],
   "source": [
    "preprocessed_df[[\"Price\", \"kms_driven\"]].describe()"
   ]
  },
  {
   "cell_type": "markdown",
   "metadata": {},
   "source": [
    "## Data Cleaning"
   ]
  },
  {
   "cell_type": "markdown",
   "metadata": {},
   "source": [
    "#### Handling Missing values"
   ]
  },
  {
   "cell_type": "code",
   "execution_count": 554,
   "metadata": {},
   "outputs": [
    {
     "data": {
      "text/plain": [
       "name           0\n",
       "company        0\n",
       "year          50\n",
       "Price         35\n",
       "kms_driven    75\n",
       "fuel_type     55\n",
       "dtype: int64"
      ]
     },
     "execution_count": 554,
     "metadata": {},
     "output_type": "execute_result"
    }
   ],
   "source": [
    "preprocessed_df.isna().sum()"
   ]
  },
  {
   "cell_type": "code",
   "execution_count": 555,
   "metadata": {},
   "outputs": [
    {
     "name": "stdout",
     "output_type": "stream",
     "text": [
      "12 rows are deleted because they don't have any of kms_driven, year, price or fuel_type\n",
      "Remaining dataset:\n"
     ]
    },
    {
     "data": {
      "text/plain": [
       "name           0\n",
       "company        0\n",
       "year          38\n",
       "Price         23\n",
       "kms_driven    63\n",
       "fuel_type     43\n",
       "dtype: int64"
      ]
     },
     "execution_count": 555,
     "metadata": {},
     "output_type": "execute_result"
    }
   ],
   "source": [
    "nokms_mask = preprocessed_df[\"kms_driven\"].isna()\n",
    "noyear_mask = preprocessed_df[\"year\"].isna()\n",
    "noprice_mask = preprocessed_df[\"Price\"].isna()\n",
    "nofuel_mask = preprocessed_df[\"fuel_type\"].isna()\n",
    "\n",
    "temp_df = preprocessed_df[((nokms_mask) & (noyear_mask) & (noprice_mask) & (nofuel_mask))].copy()\n",
    "print(f\"{temp_df.shape[0]} rows are deleted because they don't have any of kms_driven, year, price or fuel_type\")\n",
    "df_without_4_missing = preprocessed_df.drop(axis=\"index\", index=temp_df.index)\n",
    "print(\"Remaining dataset:\")\n",
    "\n",
    "df_without_4_missing.isna().sum()"
   ]
  },
  {
   "cell_type": "markdown",
   "metadata": {},
   "source": [
    "Removing Rows with Invalid names"
   ]
  },
  {
   "cell_type": "code",
   "execution_count": 556,
   "metadata": {},
   "outputs": [
    {
     "name": "stdout",
     "output_type": "stream",
     "text": [
      "Removed 3 rows with invalid name\n"
     ]
    },
    {
     "data": {
      "text/plain": [
       "(877, 6)"
      ]
     },
     "execution_count": 556,
     "metadata": {},
     "output_type": "execute_result"
    }
   ],
   "source": [
    "invalid_name_mask = df_without_4_missing[\"name\"].str.len()<5\n",
    "print(\"Removed\", df_without_4_missing[invalid_name_mask].shape[0], \"rows with invalid name\")\n",
    "df_with_valid_names = df_without_4_missing.drop(axis=\"index\", index=df_without_4_missing[invalid_name_mask].index)\n",
    "df_with_valid_names.shape"
   ]
  },
  {
   "cell_type": "markdown",
   "metadata": {},
   "source": [
    "Converting LPG to Petrol and dropping \\<NA\\> fuel type records"
   ]
  },
  {
   "cell_type": "code",
   "execution_count": 557,
   "metadata": {},
   "outputs": [],
   "source": [
    "def show_distribution(df, column_name):\n",
    "    value_counts_df = df[column_name].value_counts().reset_index()\n",
    "    value_counts_df.columns = [column_name.capitalize(), \"Count\"]\n",
    "    value_counts_df[\"Relative\"] = (df[column_name].value_counts(normalize=True).values * 100).round(2).astype(\"str\") + \"%\"\n",
    "    print(value_counts_df)\n",
    "\n",
    "    empty_records = df[column_name].isna().sum()\n",
    "    total_records = df.shape[0]\n",
    "    \n",
    "    print(\"Empty records:\",empty_records, end=\"\")\n",
    "    if empty_records > 0:\n",
    "        print(f\" ({empty_records / total_records:.2f}%)\")"
   ]
  },
  {
   "cell_type": "code",
   "execution_count": 558,
   "metadata": {},
   "outputs": [
    {
     "name": "stdout",
     "output_type": "stream",
     "text": [
      "Before: Had 3 categories with 40 empty records\n",
      "  Fuel_type  Count Relative\n",
      "0    Petrol    440   52.57%\n",
      "1    Diesel    395   47.19%\n",
      "2       LPG      2    0.24%\n",
      "Empty records: 40 (0.05%)\n",
      "\n",
      "After: Converted LPG to Petrol, dropped empty records\n",
      "  Fuel_type  Count Relative\n",
      "0    Petrol    442   52.81%\n",
      "1    Diesel    395   47.19%\n",
      "Empty records: 0"
     ]
    },
    {
     "data": {
      "text/plain": [
       "name           0\n",
       "company        0\n",
       "year           0\n",
       "Price         21\n",
       "kms_driven    21\n",
       "fuel_type      0\n",
       "dtype: int64"
      ]
     },
     "execution_count": 558,
     "metadata": {},
     "output_type": "execute_result"
    }
   ],
   "source": [
    "df_with_2_fuels = df_with_valid_names.copy()\n",
    "\n",
    "# Before\n",
    "print(\"Before: Had 3 categories with 40 empty records\")\n",
    "show_distribution(df_with_2_fuels, \"fuel_type\")\n",
    "\n",
    "# Converting LPG to Petrol\n",
    "df_with_2_fuels.loc[df_with_2_fuels[\"fuel_type\"]==\"LPG\", \"fuel_type\"] = \"Petrol\"\n",
    "\n",
    "# Dropping <NA> records\n",
    "df_with_2_fuels.dropna(subset=[\"fuel_type\"], inplace=True)\n",
    "df_with_2_fuels[\"fuel_type\"] = df_with_2_fuels[\"fuel_type\"].cat.remove_unused_categories()\n",
    "\n",
    "# After\n",
    "print(\"\\nAfter: Converted LPG to Petrol, dropped empty records\")\n",
    "show_distribution(df_with_2_fuels, \"fuel_type\")\n",
    "\n",
    "df_with_2_fuels.isna().sum()"
   ]
  },
  {
   "cell_type": "markdown",
   "metadata": {},
   "source": [
    "Finding the average total kilometers driven based on **fuel type**"
   ]
  },
  {
   "cell_type": "code",
   "execution_count": 559,
   "metadata": {},
   "outputs": [
    {
     "data": {
      "text/plain": [
       "{'Diesel': 57442.33769633508, 'Petrol': 37385.81566820276}"
      ]
     },
     "execution_count": 559,
     "metadata": {},
     "output_type": "execute_result"
    }
   ],
   "source": [
    "mean_km = df_with_2_fuels.groupby(\"fuel_type\", observed=False)[\"kms_driven\"].mean().to_dict()\n",
    "mean_km"
   ]
  },
  {
   "cell_type": "markdown",
   "metadata": {},
   "source": [
    "Finding Mean Annual Kilometers driven based on **fuel_type**"
   ]
  },
  {
   "cell_type": "code",
   "execution_count": 560,
   "metadata": {},
   "outputs": [
    {
     "data": {
      "text/plain": [
       "{'Diesel': 10011.436886549187, 'Petrol': 5080.053693088486}"
      ]
     },
     "execution_count": 560,
     "metadata": {},
     "output_type": "execute_result"
    }
   ],
   "source": [
    "calc_df = df_with_2_fuels.copy()\n",
    "\n",
    "# Age\n",
    "base_year = unique_years.max()\n",
    "calc_df[\"Age\"] = base_year - calc_df[\"year\"] + 1\n",
    "useful_df = calc_df.loc[(df_with_2_fuels[\"year\"].notna()) & (df_with_2_fuels[\"kms_driven\"].notna())]\n",
    "\n",
    "# Annual_Km_Driven\n",
    "calc_df[\"Annual_Km_Driven\"] = useful_df.loc[:,\"kms_driven\"] / useful_df.loc[:,\"Age\"]\n",
    "mean_annual_km = calc_df[~calc_df[\"Annual_Km_Driven\"].isna()].groupby(\"fuel_type\", observed=False)[\"Annual_Km_Driven\"].mean().to_dict()\n",
    "\n",
    "# Fill Empty Annual_Km_Driven\n",
    "for fuel_type, mean_km in mean_annual_km.items():\n",
    "    mask = (calc_df[\"Annual_Km_Driven\"].isna()) & (calc_df[\"fuel_type\"] == fuel_type)\n",
    "    calc_df.loc[mask, \"Annual_Km_Driven\"] = mean_km\n",
    "\n",
    "# Mean Annual Kilometers Driven\n",
    "mean_annual_km"
   ]
  },
  {
   "cell_type": "code",
   "execution_count": 561,
   "metadata": {},
   "outputs": [],
   "source": [
    "# Fill missing values in kms_driven using mean_annual_km's respective fuel_type * Age\n",
    "for fuel_type, mean_km in mean_annual_km.items():\n",
    "    mask = (calc_df[\"kms_driven\"].isna()) & (calc_df[\"fuel_type\"] == fuel_type)\n",
    "    calc_df.loc[mask, \"kms_driven\"] = (calc_df.loc[mask, \"Age\"] * mean_km).astype(int)\n",
    "# (calc_df[\"kms_driven\"].isna()) & (calc_df[\"fuel_type\"] == \"Diesel\")"
   ]
  },
  {
   "cell_type": "markdown",
   "metadata": {},
   "source": [
    "We dropped the records where price was empty"
   ]
  },
  {
   "cell_type": "code",
   "execution_count": 562,
   "metadata": {},
   "outputs": [
    {
     "name": "stdout",
     "output_type": "stream",
     "text": [
      "No. of records with missing price: 21\n",
      "Shape of filled dataset: (816, 8)\n"
     ]
    },
    {
     "data": {
      "text/plain": [
       "name                0\n",
       "company             0\n",
       "year                0\n",
       "Price               0\n",
       "kms_driven          0\n",
       "fuel_type           0\n",
       "Age                 0\n",
       "Annual_Km_Driven    0\n",
       "dtype: int64"
      ]
     },
     "execution_count": 562,
     "metadata": {},
     "output_type": "execute_result"
    }
   ],
   "source": [
    "print(\"No. of records with missing price:\", calc_df[\"Price\"].isna().sum())\n",
    "filled_df = calc_df.dropna(subset=[\"Price\"])\n",
    "print(\"Shape of filled dataset:\", filled_df.shape)\n",
    "filled_df.isna().sum()"
   ]
  },
  {
   "cell_type": "markdown",
   "metadata": {},
   "source": [
    "Revisiting the data types after all the cleaning"
   ]
  },
  {
   "cell_type": "code",
   "execution_count": 563,
   "metadata": {},
   "outputs": [
    {
     "name": "stdout",
     "output_type": "stream",
     "text": [
      "<class 'pandas.core.frame.DataFrame'>\n",
      "Index: 816 entries, 0 to 889\n",
      "Data columns (total 8 columns):\n",
      " #   Column            Non-Null Count  Dtype   \n",
      "---  ------            --------------  -----   \n",
      " 0   name              816 non-null    object  \n",
      " 1   company           816 non-null    object  \n",
      " 2   year              816 non-null    Int64   \n",
      " 3   Price             816 non-null    Int64   \n",
      " 4   kms_driven        816 non-null    Int64   \n",
      " 5   fuel_type         816 non-null    category\n",
      " 6   Age               816 non-null    Int64   \n",
      " 7   Annual_Km_Driven  816 non-null    Float64 \n",
      "dtypes: Float64(1), Int64(4), category(1), object(2)\n",
      "memory usage: 55.9+ KB\n"
     ]
    }
   ],
   "source": [
    "filled_df.info()"
   ]
  },
  {
   "cell_type": "markdown",
   "metadata": {},
   "source": [
    "Storing the cleaned data into a CSV file"
   ]
  },
  {
   "cell_type": "code",
   "execution_count": 564,
   "metadata": {},
   "outputs": [
    {
     "data": {
      "text/html": [
       "<div>\n",
       "<style scoped>\n",
       "    .dataframe tbody tr th:only-of-type {\n",
       "        vertical-align: middle;\n",
       "    }\n",
       "\n",
       "    .dataframe tbody tr th {\n",
       "        vertical-align: top;\n",
       "    }\n",
       "\n",
       "    .dataframe thead th {\n",
       "        text-align: right;\n",
       "    }\n",
       "</style>\n",
       "<table border=\"1\" class=\"dataframe\">\n",
       "  <thead>\n",
       "    <tr style=\"text-align: right;\">\n",
       "      <th></th>\n",
       "      <th>name</th>\n",
       "      <th>company</th>\n",
       "      <th>year</th>\n",
       "      <th>Price</th>\n",
       "      <th>kms_driven</th>\n",
       "      <th>fuel_type</th>\n",
       "      <th>Age</th>\n",
       "      <th>Annual_Km_Driven</th>\n",
       "    </tr>\n",
       "  </thead>\n",
       "  <tbody>\n",
       "    <tr>\n",
       "      <th>0</th>\n",
       "      <td>Hyundai Santro Xing XO eRLX Euro III</td>\n",
       "      <td>Hyundai</td>\n",
       "      <td>2007</td>\n",
       "      <td>80000</td>\n",
       "      <td>45000</td>\n",
       "      <td>Petrol</td>\n",
       "      <td>13</td>\n",
       "      <td>3461.538462</td>\n",
       "    </tr>\n",
       "    <tr>\n",
       "      <th>1</th>\n",
       "      <td>Mahindra Jeep CL550 MDI</td>\n",
       "      <td>Mahindra</td>\n",
       "      <td>2006</td>\n",
       "      <td>425000</td>\n",
       "      <td>140160</td>\n",
       "      <td>Diesel</td>\n",
       "      <td>14</td>\n",
       "      <td>10011.436887</td>\n",
       "    </tr>\n",
       "    <tr>\n",
       "      <th>3</th>\n",
       "      <td>Hyundai Grand i10 Magna 1.2 Kappa VTVT</td>\n",
       "      <td>Hyundai</td>\n",
       "      <td>2014</td>\n",
       "      <td>325000</td>\n",
       "      <td>28000</td>\n",
       "      <td>Petrol</td>\n",
       "      <td>6</td>\n",
       "      <td>4666.666667</td>\n",
       "    </tr>\n",
       "    <tr>\n",
       "      <th>4</th>\n",
       "      <td>Ford EcoSport Titanium 1.5L TDCi</td>\n",
       "      <td>Ford</td>\n",
       "      <td>2014</td>\n",
       "      <td>575000</td>\n",
       "      <td>36000</td>\n",
       "      <td>Diesel</td>\n",
       "      <td>6</td>\n",
       "      <td>6000.0</td>\n",
       "    </tr>\n",
       "    <tr>\n",
       "      <th>6</th>\n",
       "      <td>Ford Figo</td>\n",
       "      <td>Ford</td>\n",
       "      <td>2012</td>\n",
       "      <td>175000</td>\n",
       "      <td>41000</td>\n",
       "      <td>Diesel</td>\n",
       "      <td>8</td>\n",
       "      <td>5125.0</td>\n",
       "    </tr>\n",
       "    <tr>\n",
       "      <th>...</th>\n",
       "      <td>...</td>\n",
       "      <td>...</td>\n",
       "      <td>...</td>\n",
       "      <td>...</td>\n",
       "      <td>...</td>\n",
       "      <td>...</td>\n",
       "      <td>...</td>\n",
       "      <td>...</td>\n",
       "    </tr>\n",
       "    <tr>\n",
       "      <th>883</th>\n",
       "      <td>Maruti Suzuki Ritz VXI ABS</td>\n",
       "      <td>Maruti</td>\n",
       "      <td>2011</td>\n",
       "      <td>270000</td>\n",
       "      <td>50000</td>\n",
       "      <td>Petrol</td>\n",
       "      <td>9</td>\n",
       "      <td>5555.555556</td>\n",
       "    </tr>\n",
       "    <tr>\n",
       "      <th>885</th>\n",
       "      <td>Tata Indica V2 DLE BS III</td>\n",
       "      <td>Tata</td>\n",
       "      <td>2009</td>\n",
       "      <td>110000</td>\n",
       "      <td>30000</td>\n",
       "      <td>Diesel</td>\n",
       "      <td>11</td>\n",
       "      <td>2727.272727</td>\n",
       "    </tr>\n",
       "    <tr>\n",
       "      <th>886</th>\n",
       "      <td>Toyota Corolla Altis</td>\n",
       "      <td>Toyota</td>\n",
       "      <td>2009</td>\n",
       "      <td>300000</td>\n",
       "      <td>132000</td>\n",
       "      <td>Petrol</td>\n",
       "      <td>11</td>\n",
       "      <td>12000.0</td>\n",
       "    </tr>\n",
       "    <tr>\n",
       "      <th>888</th>\n",
       "      <td>Tata Zest XM Diesel</td>\n",
       "      <td>Tata</td>\n",
       "      <td>2018</td>\n",
       "      <td>260000</td>\n",
       "      <td>27000</td>\n",
       "      <td>Diesel</td>\n",
       "      <td>2</td>\n",
       "      <td>13500.0</td>\n",
       "    </tr>\n",
       "    <tr>\n",
       "      <th>889</th>\n",
       "      <td>Mahindra Quanto C8</td>\n",
       "      <td>Mahindra</td>\n",
       "      <td>2013</td>\n",
       "      <td>390000</td>\n",
       "      <td>40000</td>\n",
       "      <td>Diesel</td>\n",
       "      <td>7</td>\n",
       "      <td>5714.285714</td>\n",
       "    </tr>\n",
       "  </tbody>\n",
       "</table>\n",
       "<p>816 rows × 8 columns</p>\n",
       "</div>"
      ],
      "text/plain": [
       "                                       name   company  year   Price  \\\n",
       "0      Hyundai Santro Xing XO eRLX Euro III   Hyundai  2007   80000   \n",
       "1                   Mahindra Jeep CL550 MDI  Mahindra  2006  425000   \n",
       "3    Hyundai Grand i10 Magna 1.2 Kappa VTVT   Hyundai  2014  325000   \n",
       "4          Ford EcoSport Titanium 1.5L TDCi      Ford  2014  575000   \n",
       "6                                 Ford Figo      Ford  2012  175000   \n",
       "..                                      ...       ...   ...     ...   \n",
       "883              Maruti Suzuki Ritz VXI ABS    Maruti  2011  270000   \n",
       "885               Tata Indica V2 DLE BS III      Tata  2009  110000   \n",
       "886                    Toyota Corolla Altis    Toyota  2009  300000   \n",
       "888                     Tata Zest XM Diesel      Tata  2018  260000   \n",
       "889                      Mahindra Quanto C8  Mahindra  2013  390000   \n",
       "\n",
       "     kms_driven fuel_type  Age  Annual_Km_Driven  \n",
       "0         45000    Petrol   13       3461.538462  \n",
       "1        140160    Diesel   14      10011.436887  \n",
       "3         28000    Petrol    6       4666.666667  \n",
       "4         36000    Diesel    6            6000.0  \n",
       "6         41000    Diesel    8            5125.0  \n",
       "..          ...       ...  ...               ...  \n",
       "883       50000    Petrol    9       5555.555556  \n",
       "885       30000    Diesel   11       2727.272727  \n",
       "886      132000    Petrol   11           12000.0  \n",
       "888       27000    Diesel    2           13500.0  \n",
       "889       40000    Diesel    7       5714.285714  \n",
       "\n",
       "[816 rows x 8 columns]"
      ]
     },
     "execution_count": 564,
     "metadata": {},
     "output_type": "execute_result"
    }
   ],
   "source": [
    "filled_df.to_csv(\"cleaned_data.csv\", index=False)\n",
    "filled_df"
   ]
  },
  {
   "cell_type": "markdown",
   "metadata": {},
   "source": [
    "### Next step: Exploratory Data Analysis (EDA)"
   ]
  },
  {
   "cell_type": "markdown",
   "metadata": {},
   "source": [
    "We'll look at some visualisations to better understand the data"
   ]
  }
 ],
 "metadata": {
  "kernelspec": {
   "display_name": "Python 3",
   "language": "python",
   "name": "python3"
  },
  "language_info": {
   "codemirror_mode": {
    "name": "ipython",
    "version": 3
   },
   "file_extension": ".py",
   "mimetype": "text/x-python",
   "name": "python",
   "nbconvert_exporter": "python",
   "pygments_lexer": "ipython3",
   "version": "3.10.0"
  }
 },
 "nbformat": 4,
 "nbformat_minor": 2
}

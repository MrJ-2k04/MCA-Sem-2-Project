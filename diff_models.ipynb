{
 "cells": [
  {
   "cell_type": "code",
   "execution_count": 36,
   "id": "0236b5a3",
   "metadata": {},
   "outputs": [],
   "source": [
    "import pandas as pd\n",
    "import numpy as np\n",
    "from sklearn.model_selection import train_test_split\n",
    "from sklearn.metrics import r2_score\n",
    "\n",
    "from sklearn.linear_model import LinearRegression, Ridge, Lasso\n",
    "from sklearn.tree import DecisionTreeRegressor\n",
    "from sklearn.ensemble import RandomForestRegressor, GradientBoostingRegressor\n",
    "\n",
    "from sklearn.compose import ColumnTransformer\n",
    "from sklearn.pipeline import Pipeline\n",
    "from sklearn.preprocessing import OneHotEncoder, StandardScaler\n",
    "\n",
    "# Load dataset\n",
    "df = pd.read_csv(\"Cleaned_Bike_Data.csv\")\n",
    "\n",
    "# Separate target and features\n",
    "X = df[[\"age\", \"power\", \"brand\", \"owner_encoded\", \"city\", \"kms_driven\"]]\n",
    "y = df[\"price\"]\n",
    "\n",
    "# Identify categorical and numerical columns\n",
    "categorical_cols = X.select_dtypes(include=[\"object\", \"category\"]).columns.tolist()\n",
    "numerical_cols = X.select_dtypes(include=[\"int64\", \"float64\"]).columns.tolist()\n",
    "\n",
    "# Preprocessor: OneHotEncode categoricals, Scale numericals\n",
    "preprocessor = ColumnTransformer(transformers=[\n",
    "    (\"num\", StandardScaler(), numerical_cols),\n",
    "    (\"cat\", OneHotEncoder(drop=\"first\", handle_unknown=\"ignore\"), categorical_cols)\n",
    "])\n",
    "\n",
    "# Train/test split\n",
    "X_train, X_test, y_train, y_test = train_test_split(X, y, test_size=0.2, random_state=0)\n"
   ]
  },
  {
   "cell_type": "code",
   "execution_count": 37,
   "id": "451cd3a8",
   "metadata": {},
   "outputs": [
    {
     "data": {
      "text/html": [
       "<div>\n",
       "<style scoped>\n",
       "    .dataframe tbody tr th:only-of-type {\n",
       "        vertical-align: middle;\n",
       "    }\n",
       "\n",
       "    .dataframe tbody tr th {\n",
       "        vertical-align: top;\n",
       "    }\n",
       "\n",
       "    .dataframe thead th {\n",
       "        text-align: right;\n",
       "    }\n",
       "</style>\n",
       "<table border=\"1\" class=\"dataframe\">\n",
       "  <thead>\n",
       "    <tr style=\"text-align: right;\">\n",
       "      <th></th>\n",
       "      <th>age</th>\n",
       "      <th>power</th>\n",
       "      <th>brand</th>\n",
       "      <th>owner_encoded</th>\n",
       "      <th>city</th>\n",
       "      <th>kms_driven</th>\n",
       "    </tr>\n",
       "  </thead>\n",
       "  <tbody>\n",
       "    <tr>\n",
       "      <th>30826</th>\n",
       "      <td>8</td>\n",
       "      <td>100</td>\n",
       "      <td>Hero</td>\n",
       "      <td>1</td>\n",
       "      <td>Chennai</td>\n",
       "      <td>22824</td>\n",
       "    </tr>\n",
       "    <tr>\n",
       "      <th>12455</th>\n",
       "      <td>9</td>\n",
       "      <td>220</td>\n",
       "      <td>Bajaj</td>\n",
       "      <td>1</td>\n",
       "      <td>Bangalore</td>\n",
       "      <td>60000</td>\n",
       "    </tr>\n",
       "    <tr>\n",
       "      <th>15264</th>\n",
       "      <td>11</td>\n",
       "      <td>220</td>\n",
       "      <td>Bajaj</td>\n",
       "      <td>2</td>\n",
       "      <td>Delhi</td>\n",
       "      <td>20245</td>\n",
       "    </tr>\n",
       "    <tr>\n",
       "      <th>24463</th>\n",
       "      <td>9</td>\n",
       "      <td>180</td>\n",
       "      <td>TVS</td>\n",
       "      <td>1</td>\n",
       "      <td>Karnal</td>\n",
       "      <td>6639</td>\n",
       "    </tr>\n",
       "    <tr>\n",
       "      <th>18809</th>\n",
       "      <td>4</td>\n",
       "      <td>350</td>\n",
       "      <td>Royal Enfield</td>\n",
       "      <td>1</td>\n",
       "      <td>Delhi</td>\n",
       "      <td>20000</td>\n",
       "    </tr>\n",
       "    <tr>\n",
       "      <th>...</th>\n",
       "      <td>...</td>\n",
       "      <td>...</td>\n",
       "      <td>...</td>\n",
       "      <td>...</td>\n",
       "      <td>...</td>\n",
       "      <td>...</td>\n",
       "    </tr>\n",
       "    <tr>\n",
       "      <th>13123</th>\n",
       "      <td>13</td>\n",
       "      <td>150</td>\n",
       "      <td>Bajaj</td>\n",
       "      <td>1</td>\n",
       "      <td>Pune</td>\n",
       "      <td>60857</td>\n",
       "    </tr>\n",
       "    <tr>\n",
       "      <th>19648</th>\n",
       "      <td>4</td>\n",
       "      <td>390</td>\n",
       "      <td>KTM</td>\n",
       "      <td>1</td>\n",
       "      <td>Mumbai</td>\n",
       "      <td>13216</td>\n",
       "    </tr>\n",
       "    <tr>\n",
       "      <th>9845</th>\n",
       "      <td>9</td>\n",
       "      <td>150</td>\n",
       "      <td>Bajaj</td>\n",
       "      <td>1</td>\n",
       "      <td>Delhi</td>\n",
       "      <td>32588</td>\n",
       "    </tr>\n",
       "    <tr>\n",
       "      <th>10799</th>\n",
       "      <td>11</td>\n",
       "      <td>220</td>\n",
       "      <td>Bajaj</td>\n",
       "      <td>2</td>\n",
       "      <td>Delhi</td>\n",
       "      <td>20245</td>\n",
       "    </tr>\n",
       "    <tr>\n",
       "      <th>2732</th>\n",
       "      <td>8</td>\n",
       "      <td>180</td>\n",
       "      <td>TVS</td>\n",
       "      <td>1</td>\n",
       "      <td>Noida</td>\n",
       "      <td>67363</td>\n",
       "    </tr>\n",
       "  </tbody>\n",
       "</table>\n",
       "<p>26018 rows × 6 columns</p>\n",
       "</div>"
      ],
      "text/plain": [
       "       age  power          brand  owner_encoded       city  kms_driven\n",
       "30826    8    100           Hero              1    Chennai       22824\n",
       "12455    9    220          Bajaj              1  Bangalore       60000\n",
       "15264   11    220          Bajaj              2      Delhi       20245\n",
       "24463    9    180            TVS              1     Karnal        6639\n",
       "18809    4    350  Royal Enfield              1      Delhi       20000\n",
       "...    ...    ...            ...            ...        ...         ...\n",
       "13123   13    150          Bajaj              1       Pune       60857\n",
       "19648    4    390            KTM              1     Mumbai       13216\n",
       "9845     9    150          Bajaj              1      Delhi       32588\n",
       "10799   11    220          Bajaj              2      Delhi       20245\n",
       "2732     8    180            TVS              1      Noida       67363\n",
       "\n",
       "[26018 rows x 6 columns]"
      ]
     },
     "execution_count": 37,
     "metadata": {},
     "output_type": "execute_result"
    }
   ],
   "source": [
    "X_train"
   ]
  },
  {
   "cell_type": "code",
   "execution_count": 38,
   "id": "e48fa5e9",
   "metadata": {},
   "outputs": [
    {
     "name": "stdout",
     "output_type": "stream",
     "text": [
      "Linear Regression R² Score: 0.9278 | Accuracy: 92.78 %\n"
     ]
    },
    {
     "name": "stderr",
     "output_type": "stream",
     "text": [
      "d:\\Users\\mohit\\anaconda3\\Lib\\site-packages\\sklearn\\preprocessing\\_encoders.py:242: UserWarning: Found unknown categories in columns [1] during transform. These unknown categories will be encoded as all zeros\n",
      "  warnings.warn(\n"
     ]
    }
   ],
   "source": [
    "pipe_lr = Pipeline([\n",
    "    (\"preprocessing\", preprocessor),\n",
    "    (\"model\", LinearRegression())\n",
    "])\n",
    "pipe_lr.fit(X_train, y_train)\n",
    "pred_lr = pipe_lr.predict(X_test)\n",
    "r2_lr = r2_score(y_test, pred_lr)\n",
    "print(\"Linear Regression R² Score:\", round(r2_lr, 4), \"| Accuracy:\", round(r2_lr * 100, 2), \"%\")\n"
   ]
  },
  {
   "cell_type": "code",
   "execution_count": 39,
   "id": "a6e57b05",
   "metadata": {},
   "outputs": [
    {
     "name": "stderr",
     "output_type": "stream",
     "text": [
      "d:\\Users\\mohit\\anaconda3\\Lib\\site-packages\\sklearn\\preprocessing\\_encoders.py:242: UserWarning: Found unknown categories in columns [1] during transform. These unknown categories will be encoded as all zeros\n",
      "  warnings.warn(\n"
     ]
    },
    {
     "name": "stdout",
     "output_type": "stream",
     "text": [
      "Ridge Regression R² Score: 0.9226 | Accuracy: 92.26 %\n"
     ]
    }
   ],
   "source": [
    "pipe_ridge = Pipeline([\n",
    "    (\"preprocessing\", preprocessor),\n",
    "    (\"model\", Ridge(alpha=1.0))\n",
    "])\n",
    "pipe_ridge.fit(X_train, y_train)\n",
    "pred_ridge = pipe_ridge.predict(X_test)\n",
    "r2_ridge = r2_score(y_test, pred_ridge)\n",
    "print(\"Ridge Regression R² Score:\", round(r2_ridge, 4), \"| Accuracy:\", round(r2_ridge * 100, 2), \"%\")\n"
   ]
  },
  {
   "cell_type": "code",
   "execution_count": 40,
   "id": "f5d1b364",
   "metadata": {},
   "outputs": [
    {
     "name": "stdout",
     "output_type": "stream",
     "text": [
      "Lasso Regression R² Score: 0.9221 | Accuracy: 92.21 %\n"
     ]
    },
    {
     "name": "stderr",
     "output_type": "stream",
     "text": [
      "d:\\Users\\mohit\\anaconda3\\Lib\\site-packages\\sklearn\\linear_model\\_coordinate_descent.py:658: ConvergenceWarning: Objective did not converge. You might want to increase the number of iterations. Duality gap: 9226196609916.658, tolerance: 22136878044.599876\n",
      "  model = cd_fast.sparse_enet_coordinate_descent(\n",
      "d:\\Users\\mohit\\anaconda3\\Lib\\site-packages\\sklearn\\preprocessing\\_encoders.py:242: UserWarning: Found unknown categories in columns [1] during transform. These unknown categories will be encoded as all zeros\n",
      "  warnings.warn(\n"
     ]
    }
   ],
   "source": [
    "pipe_lasso = Pipeline([\n",
    "    (\"preprocessing\", preprocessor),\n",
    "    (\"model\", Lasso(alpha=0.1))\n",
    "])\n",
    "pipe_lasso.fit(X_train, y_train)\n",
    "pred_lasso = pipe_lasso.predict(X_test)\n",
    "r2_lasso = r2_score(y_test, pred_lasso)\n",
    "print(\"Lasso Regression R² Score:\", round(r2_lasso, 4), \"| Accuracy:\", round(r2_lasso * 100, 2), \"%\")\n"
   ]
  },
  {
   "cell_type": "code",
   "execution_count": 41,
   "id": "cc28a1f4",
   "metadata": {},
   "outputs": [
    {
     "name": "stdout",
     "output_type": "stream",
     "text": [
      "Decision Tree R² Score: 0.9305 | Accuracy: 93.05 %\n"
     ]
    },
    {
     "name": "stderr",
     "output_type": "stream",
     "text": [
      "d:\\Users\\mohit\\anaconda3\\Lib\\site-packages\\sklearn\\preprocessing\\_encoders.py:242: UserWarning: Found unknown categories in columns [1] during transform. These unknown categories will be encoded as all zeros\n",
      "  warnings.warn(\n"
     ]
    }
   ],
   "source": [
    "pipe_dt = Pipeline([\n",
    "    (\"preprocessing\", preprocessor),\n",
    "    (\"model\", DecisionTreeRegressor(max_depth=5))\n",
    "])\n",
    "pipe_dt.fit(X_train, y_train)\n",
    "pred_dt = pipe_dt.predict(X_test)\n",
    "r2_dt = r2_score(y_test, pred_dt)\n",
    "print(\"Decision Tree R² Score:\", round(r2_dt, 4), \"| Accuracy:\", round(r2_dt * 100, 2), \"%\")\n"
   ]
  },
  {
   "cell_type": "code",
   "execution_count": 42,
   "id": "28c41aea",
   "metadata": {},
   "outputs": [
    {
     "name": "stdout",
     "output_type": "stream",
     "text": [
      "Random Forest R² Score: 0.9731 | Accuracy: 97.31 %\n"
     ]
    },
    {
     "name": "stderr",
     "output_type": "stream",
     "text": [
      "d:\\Users\\mohit\\anaconda3\\Lib\\site-packages\\sklearn\\preprocessing\\_encoders.py:242: UserWarning: Found unknown categories in columns [1] during transform. These unknown categories will be encoded as all zeros\n",
      "  warnings.warn(\n"
     ]
    }
   ],
   "source": [
    "pipe_rf = Pipeline([\n",
    "    (\"preprocessing\", preprocessor),\n",
    "    (\"model\", RandomForestRegressor(n_estimators=100, random_state=42))\n",
    "])\n",
    "pipe_rf.fit(X_train, y_train)\n",
    "pred_rf = pipe_rf.predict(X_test)\n",
    "r2_rf = r2_score(y_test, pred_rf)\n",
    "print(\"Random Forest R² Score:\", round(r2_rf, 4), \"| Accuracy:\", round(r2_rf * 100, 2), \"%\")\n"
   ]
  },
  {
   "cell_type": "code",
   "execution_count": 43,
   "id": "6acc9c58",
   "metadata": {},
   "outputs": [
    {
     "name": "stdout",
     "output_type": "stream",
     "text": [
      "Gradient Boosting R² Score: 0.961 | Accuracy: 96.1 %\n"
     ]
    },
    {
     "name": "stderr",
     "output_type": "stream",
     "text": [
      "d:\\Users\\mohit\\anaconda3\\Lib\\site-packages\\sklearn\\preprocessing\\_encoders.py:242: UserWarning: Found unknown categories in columns [1] during transform. These unknown categories will be encoded as all zeros\n",
      "  warnings.warn(\n"
     ]
    }
   ],
   "source": [
    "pipe_gb = Pipeline([\n",
    "    (\"preprocessing\", preprocessor),\n",
    "    (\"model\", GradientBoostingRegressor(n_estimators=100, learning_rate=0.1))\n",
    "])\n",
    "pipe_gb.fit(X_train, y_train)\n",
    "pred_gb = pipe_gb.predict(X_test)\n",
    "r2_gb = r2_score(y_test, pred_gb)\n",
    "print(\"Gradient Boosting R² Score:\", round(r2_gb, 4), \"| Accuracy:\", round(r2_gb * 100, 2), \"%\")\n"
   ]
  },
  {
   "cell_type": "code",
   "execution_count": null,
   "id": "08af66ae",
   "metadata": {},
   "outputs": [],
   "source": []
  }
 ],
 "metadata": {
  "kernelspec": {
   "display_name": "base",
   "language": "python",
   "name": "python3"
  },
  "language_info": {
   "codemirror_mode": {
    "name": "ipython",
    "version": 3
   },
   "file_extension": ".py",
   "mimetype": "text/x-python",
   "name": "python",
   "nbconvert_exporter": "python",
   "pygments_lexer": "ipython3",
   "version": "3.12.7"
  }
 },
 "nbformat": 4,
 "nbformat_minor": 5
}
